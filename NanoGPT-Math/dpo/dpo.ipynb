{
 "cells": [
  {
   "cell_type": "markdown",
   "id": "c319444a",
   "metadata": {},
   "source": [
    "# SC3000 lab assignment:\n",
    "**Group member: Pham Ba Cong - U2331760J**"
   ]
  },
  {
   "cell_type": "markdown",
   "id": "124a869a",
   "metadata": {},
   "source": [
    "### Step 1: Install necesscary packages"
   ]
  },
  {
   "cell_type": "code",
   "execution_count": 1,
   "id": "3b82f8f1",
   "metadata": {},
   "outputs": [
    {
     "name": "stdout",
     "output_type": "stream",
     "text": [
      "/bin/bash: line 1: pip: command not found\n",
      "/bin/bash: line 1: pip: command not found\n"
     ]
    }
   ],
   "source": [
    "!pip install matplotlib\n",
    "!pip install torch numpy transformers datasets tiktoken wandb tqdm"
   ]
  },
  {
   "cell_type": "markdown",
   "id": "6c2d9de0",
   "metadata": {},
   "source": [
    "### Step 2: Package imports and configuration"
   ]
  },
  {
   "cell_type": "code",
   "execution_count": 2,
   "id": "876dd92d",
   "metadata": {},
   "outputs": [],
   "source": [
    "import sys\n",
    "import os\n",
    "sys.path.append(os.path.abspath(\"/home/users/ntu/cong045/scratch/school/sc3000/NanoGPT-Math\")) \n",
    "os.environ[\"CUDA_VISIBLE_DEVICES\"] = \"0\"\n",
    "import torch\n",
    "import torch.nn as nn\n",
    "import torch.nn.functional as F\n",
    "import random\n",
    "import pickle\n",
    "from model import GPT, GPTConfig\n",
    "import random\n",
    "from tqdm import tqdm\n",
    "import time\n",
    "import json\n",
    "import matplotlib.pyplot as plt\n",
    "# Configuration\n",
    "beta = 0.5\n",
    "device = 'cuda' if torch.cuda.is_available() else 'cpu'\n",
    "base_lr = 1e-4\n",
    "epochs = 40\n",
    "batch_size = 1024\n",
    "max_length =64\n",
    "num_samples = 1\n",
    "max_new_tokens = 128\n",
    "temperature = 0.8\n",
    "top_k = 200\n",
    "checkpoint_path = \"/home/users/ntu/cong045/scratch/school/sc3000/NanoGPT-Math/checkpoints/dpo/\"\n",
    "os.makedirs(checkpoint_path, exist_ok=True)\n",
    "# tokenizer\n",
    "with open(\"/home/users/ntu/cong045/scratch/school/sc3000/NanoGPT-Math/sft/meta.pkl\", \"rb\") as f:\n",
    "    meta = pickle.load(f)\n",
    "stoi, itos = meta[\"stoi\"], meta[\"itos\"]\n",
    "def encode(s): return [stoi[c] for c in s]\n",
    "def decode(l): return ''.join([itos[i] for i in l])"
   ]
  },
  {
   "cell_type": "markdown",
   "id": "4c7d35e6",
   "metadata": {},
   "source": [
    "### Step 3: Define helper functions"
   ]
  },
  {
   "cell_type": "code",
   "execution_count": 3,
   "id": "d03655c3",
   "metadata": {},
   "outputs": [],
   "source": [
    "def compute_logprob(input_ids):\n",
    "    inputs = input_ids[:, :-1]\n",
    "    targets = input_ids[:, 1:]\n",
    "    logits, _ = gpt(inputs, full_seq=True)\n",
    "    B, T, V = logits.size()\n",
    "    logits_flat = logits.reshape(-1, V)\n",
    "    targets_flat = targets.reshape(-1)\n",
    "    loss = F.cross_entropy(logits_flat, targets_flat, ignore_index=0, reduction='none')\n",
    "    loss = loss.reshape(B, T)\n",
    "    attention_mask = (targets != 0).float()\n",
    "    loss = (loss * attention_mask).sum(dim=1) / attention_mask.sum(dim=1)\n",
    "    return -loss \n",
    "\n",
    "def pad_or_truncate(seq, max_length):\n",
    "    return seq[-max_length:] if len(seq) > max_length else seq + [0] * (max_length - len(seq))\n",
    "\n",
    "def get_batches(lines, batch_size):\n",
    "    random.shuffle(lines)\n",
    "    #for l in lines:\n",
    "    #    print(l[1])\n",
    "    for i in range(0, len(lines), batch_size):\n",
    "        batch = lines[i:i+batch_size]\n",
    "        if len(batch) < batch_size:\n",
    "            continue\n",
    "        neg_inputs = [pad_or_truncate(encode(p['negative'] + '\\n\\n\\n\\n'), max_length) for p in batch]\n",
    "        pos_inputs = [pad_or_truncate(encode(p['positive'] + '\\n\\n\\n\\n'), max_length) for p in batch]\n",
    "        neg_tensor = torch.tensor(neg_inputs, dtype=torch.long, device=device)\n",
    "        pos_tensor = torch.tensor(pos_inputs, dtype=torch.long, device=device)\n",
    "        yield neg_tensor, pos_tensor"
   ]
  },
  {
   "cell_type": "markdown",
   "id": "fc9d9eba",
   "metadata": {},
   "source": [
    "### Step 4: Load the pretrained NanoGPT model"
   ]
  },
  {
   "cell_type": "code",
   "execution_count": 4,
   "id": "ceae772a",
   "metadata": {},
   "outputs": [
    {
     "data": {
      "text/plain": [
       "GPT(\n",
       "  (transformer): ModuleDict(\n",
       "    (wte): Embedding(74, 348)\n",
       "    (wpe): Embedding(256, 348)\n",
       "    (drop): Dropout(p=0.2, inplace=False)\n",
       "    (h): ModuleList(\n",
       "      (0-5): 6 x Block(\n",
       "        (ln_1): LayerNorm()\n",
       "        (attn): CausalSelfAttention(\n",
       "          (c_attn): Linear(in_features=348, out_features=1044, bias=False)\n",
       "          (c_proj): Linear(in_features=348, out_features=348, bias=False)\n",
       "          (attn_dropout): Dropout(p=0.2, inplace=False)\n",
       "          (resid_dropout): Dropout(p=0.2, inplace=False)\n",
       "        )\n",
       "        (ln_2): LayerNorm()\n",
       "        (mlp): MLP(\n",
       "          (c_fc): Linear(in_features=348, out_features=1392, bias=False)\n",
       "          (gelu): GELU(approximate='none')\n",
       "          (c_proj): Linear(in_features=1392, out_features=348, bias=False)\n",
       "          (dropout): Dropout(p=0.2, inplace=False)\n",
       "        )\n",
       "      )\n",
       "    )\n",
       "    (ln_f): LayerNorm()\n",
       "  )\n",
       "  (lm_head): Linear(in_features=348, out_features=74, bias=False)\n",
       ")"
      ]
     },
     "execution_count": 4,
     "metadata": {},
     "output_type": "execute_result"
    }
   ],
   "source": [
    "ckpt = torch.load(\"/home/users/ntu/cong045/scratch/school/sc3000/NanoGPT-Math/sft/gpt.pt\", map_location=device)\n",
    "gptconf = GPTConfig(**ckpt['model_args'])\n",
    "gpt = GPT(gptconf)\n",
    "state_dict = ckpt['model']\n",
    "unwanted_prefix = '_orig_mod.'\n",
    "for k in list(state_dict.keys()):\n",
    "    if k.startswith(unwanted_prefix):\n",
    "        state_dict[k[len(unwanted_prefix):]] = state_dict.pop(k)\n",
    "gpt.load_state_dict(state_dict)\n",
    "gpt.to(device).train()"
   ]
  },
  {
   "cell_type": "markdown",
   "id": "0feafc5a",
   "metadata": {},
   "source": [
    "### Step 5: Load Data (**students are required to complete this part!**)"
   ]
  },
  {
   "cell_type": "code",
   "execution_count": 5,
   "id": "7edf3d44",
   "metadata": {},
   "outputs": [
    {
     "name": "stdout",
     "output_type": "stream",
     "text": [
      "400004\n"
     ]
    }
   ],
   "source": [
    "# Load data from ./data/pos_neg_pairs.json\n",
    "with open(\"/home/users/ntu/cong045/scratch/school/sc3000/NanoGPT-Math/data/dpo_data.json\", \"r\") as f:\n",
    "    lines = [json.loads(line) for line in f]\n",
    "print(len(lines))"
   ]
  },
  {
   "cell_type": "markdown",
   "id": "c2e5f81f",
   "metadata": {},
   "source": [
    "### Step 6: Build the optimizer and scheduler (**students are required to complete this part!**)"
   ]
  },
  {
   "cell_type": "code",
   "execution_count": 6,
   "id": "df0c400f",
   "metadata": {},
   "outputs": [],
   "source": [
    "# recommend to use the AdamW optimizer \n",
    "total_steps = len(lines) // batch_size\n",
    "optimizer = torch.optim.AdamW(gpt.parameters(), lr=base_lr)\n",
    "scheduler = torch.optim.lr_scheduler.CosineAnnealingLR(optimizer, T_max=total_steps)"
   ]
  },
  {
   "cell_type": "markdown",
   "id": "52b66199",
   "metadata": {},
   "source": [
    "### Step 7: Begin training"
   ]
  },
  {
   "cell_type": "markdown",
   "id": "5ae66d4d",
   "metadata": {},
   "source": [
    "We will train the model with the dpo algorithm, i tested some epochs and found that the loss converges and the model perform well at around 35-40 epochs, so we will train the model for max 40 epochs i have also added early stopping to save some time and prevent overfitting"
   ]
  },
  {
   "cell_type": "code",
   "execution_count": 7,
   "id": "88083c96",
   "metadata": {},
   "outputs": [],
   "source": [
    "from tqdm import tqdm\n",
    "import re"
   ]
  },
  {
   "cell_type": "markdown",
   "id": "93e18676",
   "metadata": {},
   "source": [
    "We first define a validation function for performance tracking during training"
   ]
  },
  {
   "cell_type": "code",
   "execution_count": 8,
   "id": "255cbc1e",
   "metadata": {},
   "outputs": [
    {
     "name": "stdout",
     "output_type": "stream",
     "text": [
      "404\n"
     ]
    }
   ],
   "source": [
    "with open(\"/home/users/ntu/cong045/scratch/school/sc3000/NanoGPT-Math/data/dpo_test_data.json\", \"r\") as f:\n",
    "    val_data = f.readlines()\n",
    "    val_data = [json.loads(line) for line in val_data]\n",
    "print(len(val_data))"
   ]
  },
  {
   "cell_type": "code",
   "execution_count": 9,
   "id": "8303ea0f",
   "metadata": {},
   "outputs": [],
   "source": [
    "def validate(model, val_data):\n",
    "    model.eval()\n",
    "    \n",
    "    total_correct = 0\n",
    "    total_questions = 0\n",
    "    \n",
    "    with torch.no_grad():\n",
    "        for sample in tqdm(val_data, desc=\"Running validation\"):\n",
    "            question = sample['question']\n",
    "            gt = sample['answer']\n",
    "            \n",
    "            prompt_ids = encode(question)\n",
    "            x = torch.tensor(prompt_ids, dtype=torch.long, device=device).unsqueeze(0)\n",
    "            generated_ids, _ = model.generate(x, max_new_tokens, temperature=0.2, top_k=top_k)\n",
    "            output = decode(generated_ids[0].tolist())\n",
    "            \n",
    "            pattern = r'The answer is (-?\\d+)'\n",
    "            match = re.search(pattern, output)\n",
    "\n",
    "            if match is None:\n",
    "                predicted_answer = None\n",
    "            else:\n",
    "                predicted_answer = int(match.group(1))\n",
    "                \n",
    "            is_correct = (predicted_answer == gt)\n",
    "            \n",
    "            total_questions += 1\n",
    "            if is_correct:\n",
    "                total_correct += 1\n",
    "    \n",
    "    overall_acc = total_correct / total_questions if total_questions > 0 else 0.0\n",
    "    \n",
    "    results = {\n",
    "        'accuracy': overall_acc,\n",
    "        'total_correct': total_correct,\n",
    "        'total_questions': total_questions\n",
    "    }\n",
    "    \n",
    "    return results"
   ]
  },
  {
   "cell_type": "code",
   "execution_count": 10,
   "id": "1d4ebeb4",
   "metadata": {},
   "outputs": [
    {
     "name": "stderr",
     "output_type": "stream",
     "text": [
      "Training: 100%|████████████████████████████████████████████████████████████████████████████████████████████████████████████████████████████████████████████| 390/390 [01:30<00:00,  4.31it/s]\n",
      "Running validation: 100%|██████████████████████████████████████████████████████████████████████████████████████████████████████████████████████████████████| 404/404 [00:24<00:00, 16.76it/s]\n"
     ]
    },
    {
     "name": "stdout",
     "output_type": "stream",
     "text": [
      "Epoch 0, Loss: 0.1904678907340918, Accuracy: 0.08663366336633663\n",
      "Saved checkpoint to /home/users/ntu/cong045/scratch/school/sc3000/NanoGPT-Math/checkpoints/dpo/dpo_0.pt\n"
     ]
    },
    {
     "name": "stderr",
     "output_type": "stream",
     "text": [
      "Training: 100%|████████████████████████████████████████████████████████████████████████████████████████████████████████████████████████████████████████████| 390/390 [01:26<00:00,  4.49it/s]\n",
      "Running validation: 100%|██████████████████████████████████████████████████████████████████████████████████████████████████████████████████████████████████| 404/404 [00:29<00:00, 13.84it/s]\n"
     ]
    },
    {
     "name": "stdout",
     "output_type": "stream",
     "text": [
      "Epoch 1, Loss: 0.07135109258576845, Accuracy: 0.0891089108910891\n",
      "Saved checkpoint to /home/users/ntu/cong045/scratch/school/sc3000/NanoGPT-Math/checkpoints/dpo/dpo_1.pt\n"
     ]
    },
    {
     "name": "stderr",
     "output_type": "stream",
     "text": [
      "Training: 100%|████████████████████████████████████████████████████████████████████████████████████████████████████████████████████████████████████████████| 390/390 [01:26<00:00,  4.48it/s]\n",
      "Running validation: 100%|██████████████████████████████████████████████████████████████████████████████████████████████████████████████████████████████████| 404/404 [00:29<00:00, 13.80it/s]\n"
     ]
    },
    {
     "name": "stdout",
     "output_type": "stream",
     "text": [
      "Epoch 2, Loss: 0.048272505440773106, Accuracy: 0.11386138613861387\n",
      "Saved checkpoint to /home/users/ntu/cong045/scratch/school/sc3000/NanoGPT-Math/checkpoints/dpo/dpo_2.pt\n"
     ]
    },
    {
     "name": "stderr",
     "output_type": "stream",
     "text": [
      "Training: 100%|████████████████████████████████████████████████████████████████████████████████████████████████████████████████████████████████████████████| 390/390 [01:27<00:00,  4.48it/s]\n",
      "Running validation: 100%|██████████████████████████████████████████████████████████████████████████████████████████████████████████████████████████████████| 404/404 [00:29<00:00, 13.75it/s]\n"
     ]
    },
    {
     "name": "stdout",
     "output_type": "stream",
     "text": [
      "Epoch 3, Loss: 0.04051659690359464, Accuracy: 0.15841584158415842\n",
      "Saved checkpoint to /home/users/ntu/cong045/scratch/school/sc3000/NanoGPT-Math/checkpoints/dpo/dpo_3.pt\n"
     ]
    },
    {
     "name": "stderr",
     "output_type": "stream",
     "text": [
      "Training: 100%|████████████████████████████████████████████████████████████████████████████████████████████████████████████████████████████████████████████| 390/390 [01:26<00:00,  4.49it/s]\n",
      "Running validation: 100%|██████████████████████████████████████████████████████████████████████████████████████████████████████████████████████████████████| 404/404 [00:29<00:00, 13.78it/s]\n"
     ]
    },
    {
     "name": "stdout",
     "output_type": "stream",
     "text": [
      "Epoch 4, Loss: 0.026197318169168936, Accuracy: 0.2301980198019802\n",
      "Saved checkpoint to /home/users/ntu/cong045/scratch/school/sc3000/NanoGPT-Math/checkpoints/dpo/dpo_4.pt\n"
     ]
    },
    {
     "name": "stderr",
     "output_type": "stream",
     "text": [
      "Training: 100%|████████████████████████████████████████████████████████████████████████████████████████████████████████████████████████████████████████████| 390/390 [01:26<00:00,  4.48it/s]\n",
      "Running validation: 100%|██████████████████████████████████████████████████████████████████████████████████████████████████████████████████████████████████| 404/404 [00:29<00:00, 13.69it/s]\n"
     ]
    },
    {
     "name": "stdout",
     "output_type": "stream",
     "text": [
      "Epoch 5, Loss: 0.026339358721788112, Accuracy: 0.19306930693069307\n",
      "Saved checkpoint to /home/users/ntu/cong045/scratch/school/sc3000/NanoGPT-Math/checkpoints/dpo/dpo_5.pt\n"
     ]
    },
    {
     "name": "stderr",
     "output_type": "stream",
     "text": [
      "Training: 100%|████████████████████████████████████████████████████████████████████████████████████████████████████████████████████████████████████████████| 390/390 [01:26<00:00,  4.48it/s]\n",
      "Running validation: 100%|██████████████████████████████████████████████████████████████████████████████████████████████████████████████████████████████████| 404/404 [00:29<00:00, 13.76it/s]\n"
     ]
    },
    {
     "name": "stdout",
     "output_type": "stream",
     "text": [
      "Epoch 6, Loss: 0.02304497187813887, Accuracy: 0.400990099009901\n",
      "Saved checkpoint to /home/users/ntu/cong045/scratch/school/sc3000/NanoGPT-Math/checkpoints/dpo/dpo_6.pt\n"
     ]
    },
    {
     "name": "stderr",
     "output_type": "stream",
     "text": [
      "Training: 100%|████████████████████████████████████████████████████████████████████████████████████████████████████████████████████████████████████████████| 390/390 [01:26<00:00,  4.48it/s]\n",
      "Running validation: 100%|██████████████████████████████████████████████████████████████████████████████████████████████████████████████████████████████████| 404/404 [00:29<00:00, 13.85it/s]\n"
     ]
    },
    {
     "name": "stdout",
     "output_type": "stream",
     "text": [
      "Epoch 7, Loss: 0.021850752940353674, Accuracy: 0.4628712871287129\n",
      "Saved checkpoint to /home/users/ntu/cong045/scratch/school/sc3000/NanoGPT-Math/checkpoints/dpo/dpo_7.pt\n"
     ]
    },
    {
     "name": "stderr",
     "output_type": "stream",
     "text": [
      "Training: 100%|████████████████████████████████████████████████████████████████████████████████████████████████████████████████████████████████████████████| 390/390 [01:26<00:00,  4.48it/s]\n",
      "Running validation: 100%|██████████████████████████████████████████████████████████████████████████████████████████████████████████████████████████████████| 404/404 [00:29<00:00, 13.74it/s]\n"
     ]
    },
    {
     "name": "stdout",
     "output_type": "stream",
     "text": [
      "Epoch 8, Loss: 0.020427391830927285, Accuracy: 0.556930693069307\n",
      "Saved checkpoint to /home/users/ntu/cong045/scratch/school/sc3000/NanoGPT-Math/checkpoints/dpo/dpo_8.pt\n"
     ]
    },
    {
     "name": "stderr",
     "output_type": "stream",
     "text": [
      "Training: 100%|████████████████████████████████████████████████████████████████████████████████████████████████████████████████████████████████████████████| 390/390 [01:27<00:00,  4.48it/s]\n",
      "Running validation: 100%|██████████████████████████████████████████████████████████████████████████████████████████████████████████████████████████████████| 404/404 [00:29<00:00, 13.79it/s]\n"
     ]
    },
    {
     "name": "stdout",
     "output_type": "stream",
     "text": [
      "Epoch 9, Loss: 0.02009715871551098, Accuracy: 0.5544554455445545\n",
      "Saved checkpoint to /home/users/ntu/cong045/scratch/school/sc3000/NanoGPT-Math/checkpoints/dpo/dpo_9.pt\n"
     ]
    },
    {
     "name": "stderr",
     "output_type": "stream",
     "text": [
      "Training: 100%|████████████████████████████████████████████████████████████████████████████████████████████████████████████████████████████████████████████| 390/390 [01:26<00:00,  4.49it/s]\n",
      "Running validation: 100%|██████████████████████████████████████████████████████████████████████████████████████████████████████████████████████████████████| 404/404 [00:29<00:00, 13.77it/s]\n"
     ]
    },
    {
     "name": "stdout",
     "output_type": "stream",
     "text": [
      "Epoch 10, Loss: 0.01919193552950254, Accuracy: 0.6138613861386139\n",
      "Saved checkpoint to /home/users/ntu/cong045/scratch/school/sc3000/NanoGPT-Math/checkpoints/dpo/dpo_10.pt\n"
     ]
    },
    {
     "name": "stderr",
     "output_type": "stream",
     "text": [
      "Training: 100%|████████████████████████████████████████████████████████████████████████████████████████████████████████████████████████████████████████████| 390/390 [01:26<00:00,  4.48it/s]\n",
      "Running validation: 100%|██████████████████████████████████████████████████████████████████████████████████████████████████████████████████████████████████| 404/404 [00:29<00:00, 13.77it/s]\n"
     ]
    },
    {
     "name": "stdout",
     "output_type": "stream",
     "text": [
      "Epoch 11, Loss: 0.021027764630241273, Accuracy: 0.4975247524752475\n",
      "Saved checkpoint to /home/users/ntu/cong045/scratch/school/sc3000/NanoGPT-Math/checkpoints/dpo/dpo_11.pt\n"
     ]
    },
    {
     "name": "stderr",
     "output_type": "stream",
     "text": [
      "Training: 100%|████████████████████████████████████████████████████████████████████████████████████████████████████████████████████████████████████████████| 390/390 [01:26<00:00,  4.48it/s]\n",
      "Running validation: 100%|██████████████████████████████████████████████████████████████████████████████████████████████████████████████████████████████████| 404/404 [00:29<00:00, 13.78it/s]\n"
     ]
    },
    {
     "name": "stdout",
     "output_type": "stream",
     "text": [
      "Epoch 12, Loss: 0.01865533810490981, Accuracy: 0.7202970297029703\n",
      "Saved checkpoint to /home/users/ntu/cong045/scratch/school/sc3000/NanoGPT-Math/checkpoints/dpo/dpo_12.pt\n"
     ]
    },
    {
     "name": "stderr",
     "output_type": "stream",
     "text": [
      "Training: 100%|████████████████████████████████████████████████████████████████████████████████████████████████████████████████████████████████████████████| 390/390 [01:26<00:00,  4.48it/s]\n",
      "Running validation: 100%|██████████████████████████████████████████████████████████████████████████████████████████████████████████████████████████████████| 404/404 [00:29<00:00, 13.74it/s]\n"
     ]
    },
    {
     "name": "stdout",
     "output_type": "stream",
     "text": [
      "Epoch 13, Loss: 0.018176023748058538, Accuracy: 0.7475247524752475\n",
      "Saved checkpoint to /home/users/ntu/cong045/scratch/school/sc3000/NanoGPT-Math/checkpoints/dpo/dpo_13.pt\n"
     ]
    },
    {
     "name": "stderr",
     "output_type": "stream",
     "text": [
      "Training: 100%|████████████████████████████████████████████████████████████████████████████████████████████████████████████████████████████████████████████| 390/390 [01:26<00:00,  4.48it/s]\n",
      "Running validation: 100%|██████████████████████████████████████████████████████████████████████████████████████████████████████████████████████████████████| 404/404 [00:29<00:00, 13.78it/s]\n"
     ]
    },
    {
     "name": "stdout",
     "output_type": "stream",
     "text": [
      "Epoch 14, Loss: 0.0174048931696094, Accuracy: 0.8267326732673267\n",
      "Saved checkpoint to /home/users/ntu/cong045/scratch/school/sc3000/NanoGPT-Math/checkpoints/dpo/dpo_14.pt\n"
     ]
    },
    {
     "name": "stderr",
     "output_type": "stream",
     "text": [
      "Training: 100%|████████████████████████████████████████████████████████████████████████████████████████████████████████████████████████████████████████████| 390/390 [01:27<00:00,  4.48it/s]\n",
      "Running validation: 100%|██████████████████████████████████████████████████████████████████████████████████████████████████████████████████████████████████| 404/404 [00:29<00:00, 13.76it/s]\n"
     ]
    },
    {
     "name": "stdout",
     "output_type": "stream",
     "text": [
      "Epoch 15, Loss: 0.017267045421669118, Accuracy: 0.7945544554455446\n",
      "Saved checkpoint to /home/users/ntu/cong045/scratch/school/sc3000/NanoGPT-Math/checkpoints/dpo/dpo_15.pt\n"
     ]
    },
    {
     "name": "stderr",
     "output_type": "stream",
     "text": [
      "Training: 100%|████████████████████████████████████████████████████████████████████████████████████████████████████████████████████████████████████████████| 390/390 [01:26<00:00,  4.49it/s]\n",
      "Running validation: 100%|██████████████████████████████████████████████████████████████████████████████████████████████████████████████████████████████████| 404/404 [00:29<00:00, 13.84it/s]\n"
     ]
    },
    {
     "name": "stdout",
     "output_type": "stream",
     "text": [
      "Epoch 16, Loss: 0.016698047657234545, Accuracy: 0.9232673267326733\n",
      "Saved checkpoint to /home/users/ntu/cong045/scratch/school/sc3000/NanoGPT-Math/checkpoints/dpo/dpo_16.pt\n"
     ]
    },
    {
     "name": "stderr",
     "output_type": "stream",
     "text": [
      "Training: 100%|████████████████████████████████████████████████████████████████████████████████████████████████████████████████████████████████████████████| 390/390 [01:26<00:00,  4.49it/s]\n",
      "Running validation: 100%|██████████████████████████████████████████████████████████████████████████████████████████████████████████████████████████████████| 404/404 [00:29<00:00, 13.83it/s]\n"
     ]
    },
    {
     "name": "stdout",
     "output_type": "stream",
     "text": [
      "Epoch 17, Loss: 0.01653926793772441, Accuracy: 0.8960396039603961\n",
      "Saved checkpoint to /home/users/ntu/cong045/scratch/school/sc3000/NanoGPT-Math/checkpoints/dpo/dpo_17.pt\n"
     ]
    },
    {
     "name": "stderr",
     "output_type": "stream",
     "text": [
      "Training: 100%|████████████████████████████████████████████████████████████████████████████████████████████████████████████████████████████████████████████| 390/390 [01:26<00:00,  4.49it/s]\n",
      "Running validation: 100%|██████████████████████████████████████████████████████████████████████████████████████████████████████████████████████████████████| 404/404 [00:29<00:00, 13.77it/s]\n"
     ]
    },
    {
     "name": "stdout",
     "output_type": "stream",
     "text": [
      "Epoch 18, Loss: 0.016241037062345406, Accuracy: 0.9579207920792079\n",
      "Saved checkpoint to /home/users/ntu/cong045/scratch/school/sc3000/NanoGPT-Math/checkpoints/dpo/dpo_18.pt\n"
     ]
    },
    {
     "name": "stderr",
     "output_type": "stream",
     "text": [
      "Training: 100%|████████████████████████████████████████████████████████████████████████████████████████████████████████████████████████████████████████████| 390/390 [01:26<00:00,  4.48it/s]\n",
      "Running validation: 100%|██████████████████████████████████████████████████████████████████████████████████████████████████████████████████████████████████| 404/404 [00:29<00:00, 13.80it/s]\n"
     ]
    },
    {
     "name": "stdout",
     "output_type": "stream",
     "text": [
      "Epoch 19, Loss: 0.016213797056713164, Accuracy: 0.9282178217821783\n",
      "Saved checkpoint to /home/users/ntu/cong045/scratch/school/sc3000/NanoGPT-Math/checkpoints/dpo/dpo_19.pt\n"
     ]
    },
    {
     "name": "stderr",
     "output_type": "stream",
     "text": [
      "Training: 100%|████████████████████████████████████████████████████████████████████████████████████████████████████████████████████████████████████████████| 390/390 [01:26<00:00,  4.49it/s]\n",
      "Running validation: 100%|██████████████████████████████████████████████████████████████████████████████████████████████████████████████████████████████████| 404/404 [00:29<00:00, 13.75it/s]\n"
     ]
    },
    {
     "name": "stdout",
     "output_type": "stream",
     "text": [
      "Epoch 20, Loss: 0.016068886822232835, Accuracy: 0.9702970297029703\n",
      "Saved checkpoint to /home/users/ntu/cong045/scratch/school/sc3000/NanoGPT-Math/checkpoints/dpo/dpo_20.pt\n"
     ]
    },
    {
     "name": "stderr",
     "output_type": "stream",
     "text": [
      "Training: 100%|████████████████████████████████████████████████████████████████████████████████████████████████████████████████████████████████████████████| 390/390 [01:27<00:00,  4.48it/s]\n",
      "Running validation: 100%|██████████████████████████████████████████████████████████████████████████████████████████████████████████████████████████████████| 404/404 [00:29<00:00, 13.88it/s]\n"
     ]
    },
    {
     "name": "stdout",
     "output_type": "stream",
     "text": [
      "Epoch 21, Loss: 0.016047339759862576, Accuracy: 0.8886138613861386\n",
      "Saved checkpoint to /home/users/ntu/cong045/scratch/school/sc3000/NanoGPT-Math/checkpoints/dpo/dpo_21.pt\n"
     ]
    },
    {
     "name": "stderr",
     "output_type": "stream",
     "text": [
      "Training: 100%|████████████████████████████████████████████████████████████████████████████████████████████████████████████████████████████████████████████| 390/390 [01:26<00:00,  4.49it/s]\n",
      "Running validation: 100%|██████████████████████████████████████████████████████████████████████████████████████████████████████████████████████████████████| 404/404 [00:29<00:00, 13.84it/s]\n"
     ]
    },
    {
     "name": "stdout",
     "output_type": "stream",
     "text": [
      "Epoch 22, Loss: 0.023384473515817752, Accuracy: 0.8663366336633663\n",
      "Saved checkpoint to /home/users/ntu/cong045/scratch/school/sc3000/NanoGPT-Math/checkpoints/dpo/dpo_22.pt\n"
     ]
    },
    {
     "name": "stderr",
     "output_type": "stream",
     "text": [
      "Training: 100%|████████████████████████████████████████████████████████████████████████████████████████████████████████████████████████████████████████████| 390/390 [01:26<00:00,  4.48it/s]\n",
      "Running validation: 100%|██████████████████████████████████████████████████████████████████████████████████████████████████████████████████████████████████| 404/404 [00:29<00:00, 13.81it/s]\n"
     ]
    },
    {
     "name": "stdout",
     "output_type": "stream",
     "text": [
      "Epoch 23, Loss: 0.01679435300712402, Accuracy: 0.943069306930693\n",
      "Saved checkpoint to /home/users/ntu/cong045/scratch/school/sc3000/NanoGPT-Math/checkpoints/dpo/dpo_23.pt\n"
     ]
    },
    {
     "name": "stderr",
     "output_type": "stream",
     "text": [
      "Training: 100%|████████████████████████████████████████████████████████████████████████████████████████████████████████████████████████████████████████████| 390/390 [01:26<00:00,  4.49it/s]\n",
      "Running validation: 100%|██████████████████████████████████████████████████████████████████████████████████████████████████████████████████████████████████| 404/404 [00:29<00:00, 13.87it/s]\n"
     ]
    },
    {
     "name": "stdout",
     "output_type": "stream",
     "text": [
      "Epoch 24, Loss: 0.016042976112415393, Accuracy: 0.9777227722772277\n",
      "Saved checkpoint to /home/users/ntu/cong045/scratch/school/sc3000/NanoGPT-Math/checkpoints/dpo/dpo_24.pt\n"
     ]
    },
    {
     "name": "stderr",
     "output_type": "stream",
     "text": [
      "Training: 100%|████████████████████████████████████████████████████████████████████████████████████████████████████████████████████████████████████████████| 390/390 [01:26<00:00,  4.49it/s]\n",
      "Running validation: 100%|██████████████████████████████████████████████████████████████████████████████████████████████████████████████████████████████████| 404/404 [00:29<00:00, 13.78it/s]\n"
     ]
    },
    {
     "name": "stdout",
     "output_type": "stream",
     "text": [
      "Epoch 25, Loss: 0.01599324357528717, Accuracy: 0.9628712871287128\n",
      "Saved checkpoint to /home/users/ntu/cong045/scratch/school/sc3000/NanoGPT-Math/checkpoints/dpo/dpo_25.pt\n"
     ]
    },
    {
     "name": "stderr",
     "output_type": "stream",
     "text": [
      "Training: 100%|████████████████████████████████████████████████████████████████████████████████████████████████████████████████████████████████████████████| 390/390 [01:26<00:00,  4.49it/s]\n",
      "Running validation: 100%|██████████████████████████████████████████████████████████████████████████████████████████████████████████████████████████████████| 404/404 [00:29<00:00, 13.82it/s]\n"
     ]
    },
    {
     "name": "stdout",
     "output_type": "stream",
     "text": [
      "Epoch 26, Loss: 0.01590262346733839, Accuracy: 0.9925742574257426\n",
      "Saved checkpoint to /home/users/ntu/cong045/scratch/school/sc3000/NanoGPT-Math/checkpoints/dpo/dpo_26.pt\n"
     ]
    },
    {
     "name": "stderr",
     "output_type": "stream",
     "text": [
      "Training: 100%|████████████████████████████████████████████████████████████████████████████████████████████████████████████████████████████████████████████| 390/390 [01:27<00:00,  4.48it/s]\n",
      "Running validation: 100%|██████████████████████████████████████████████████████████████████████████████████████████████████████████████████████████████████| 404/404 [00:29<00:00, 13.78it/s]\n"
     ]
    },
    {
     "name": "stdout",
     "output_type": "stream",
     "text": [
      "Epoch 27, Loss: 0.01591638750038468, Accuracy: 0.9653465346534653\n",
      "Saved checkpoint to /home/users/ntu/cong045/scratch/school/sc3000/NanoGPT-Math/checkpoints/dpo/dpo_27.pt\n"
     ]
    },
    {
     "name": "stderr",
     "output_type": "stream",
     "text": [
      "Training: 100%|████████████████████████████████████████████████████████████████████████████████████████████████████████████████████████████████████████████| 390/390 [01:26<00:00,  4.49it/s]\n",
      "Running validation: 100%|██████████████████████████████████████████████████████████████████████████████████████████████████████████████████████████████████| 404/404 [00:29<00:00, 13.82it/s]\n"
     ]
    },
    {
     "name": "stdout",
     "output_type": "stream",
     "text": [
      "Epoch 28, Loss: 0.0158507743348869, Accuracy: 1.0\n",
      "Saved checkpoint to /home/users/ntu/cong045/scratch/school/sc3000/NanoGPT-Math/checkpoints/dpo/dpo_28.pt\n"
     ]
    },
    {
     "name": "stderr",
     "output_type": "stream",
     "text": [
      "Training: 100%|████████████████████████████████████████████████████████████████████████████████████████████████████████████████████████████████████████████| 390/390 [01:26<00:00,  4.48it/s]\n",
      "Running validation: 100%|██████████████████████████████████████████████████████████████████████████████████████████████████████████████████████████████████| 404/404 [00:29<00:00, 13.80it/s]\n"
     ]
    },
    {
     "name": "stdout",
     "output_type": "stream",
     "text": [
      "Epoch 29, Loss: 0.01587634494002813, Accuracy: 0.9702970297029703\n",
      "Saved checkpoint to /home/users/ntu/cong045/scratch/school/sc3000/NanoGPT-Math/checkpoints/dpo/dpo_29.pt\n"
     ]
    },
    {
     "name": "stderr",
     "output_type": "stream",
     "text": [
      "Training: 100%|████████████████████████████████████████████████████████████████████████████████████████████████████████████████████████████████████████████| 390/390 [01:26<00:00,  4.49it/s]\n",
      "Running validation: 100%|██████████████████████████████████████████████████████████████████████████████████████████████████████████████████████████████████| 404/404 [00:29<00:00, 13.86it/s]\n"
     ]
    },
    {
     "name": "stdout",
     "output_type": "stream",
     "text": [
      "Epoch 30, Loss: 0.01581055543695887, Accuracy: 1.0\n",
      "Saved checkpoint to /home/users/ntu/cong045/scratch/school/sc3000/NanoGPT-Math/checkpoints/dpo/dpo_30.pt\n"
     ]
    },
    {
     "name": "stderr",
     "output_type": "stream",
     "text": [
      "Training: 100%|████████████████████████████████████████████████████████████████████████████████████████████████████████████████████████████████████████████| 390/390 [01:26<00:00,  4.49it/s]\n",
      "Running validation: 100%|██████████████████████████████████████████████████████████████████████████████████████████████████████████████████████████████████| 404/404 [00:29<00:00, 13.79it/s]\n"
     ]
    },
    {
     "name": "stdout",
     "output_type": "stream",
     "text": [
      "Epoch 31, Loss: 0.01579142550054269, Accuracy: 0.9752475247524752\n",
      "Saved checkpoint to /home/users/ntu/cong045/scratch/school/sc3000/NanoGPT-Math/checkpoints/dpo/dpo_31.pt\n"
     ]
    },
    {
     "name": "stderr",
     "output_type": "stream",
     "text": [
      "Training: 100%|████████████████████████████████████████████████████████████████████████████████████████████████████████████████████████████████████████████| 390/390 [01:26<00:00,  4.49it/s]\n",
      "Running validation: 100%|██████████████████████████████████████████████████████████████████████████████████████████████████████████████████████████████████| 404/404 [00:29<00:00, 13.77it/s]\n"
     ]
    },
    {
     "name": "stdout",
     "output_type": "stream",
     "text": [
      "Epoch 32, Loss: 0.01580121994782717, Accuracy: 1.0\n",
      "Saved checkpoint to /home/users/ntu/cong045/scratch/school/sc3000/NanoGPT-Math/checkpoints/dpo/dpo_32.pt\n"
     ]
    },
    {
     "name": "stderr",
     "output_type": "stream",
     "text": [
      "Training: 100%|████████████████████████████████████████████████████████████████████████████████████████████████████████████████████████████████████████████| 390/390 [01:27<00:00,  4.45it/s]\n",
      "Running validation: 100%|██████████████████████████████████████████████████████████████████████████████████████████████████████████████████████████████████| 404/404 [00:29<00:00, 13.78it/s]\n"
     ]
    },
    {
     "name": "stdout",
     "output_type": "stream",
     "text": [
      "Epoch 33, Loss: 0.017938325895617405, Accuracy: 0.6410891089108911\n",
      "Saved checkpoint to /home/users/ntu/cong045/scratch/school/sc3000/NanoGPT-Math/checkpoints/dpo/dpo_33.pt\n"
     ]
    },
    {
     "name": "stderr",
     "output_type": "stream",
     "text": [
      "Training: 100%|████████████████████████████████████████████████████████████████████████████████████████████████████████████████████████████████████████████| 390/390 [01:26<00:00,  4.49it/s]\n",
      "Running validation: 100%|██████████████████████████████████████████████████████████████████████████████████████████████████████████████████████████████████| 404/404 [00:29<00:00, 13.80it/s]\n"
     ]
    },
    {
     "name": "stdout",
     "output_type": "stream",
     "text": [
      "Epoch 34, Loss: 0.01603159472011985, Accuracy: 0.9975247524752475\n",
      "Saved checkpoint to /home/users/ntu/cong045/scratch/school/sc3000/NanoGPT-Math/checkpoints/dpo/dpo_34.pt\n"
     ]
    },
    {
     "name": "stderr",
     "output_type": "stream",
     "text": [
      "Training: 100%|████████████████████████████████████████████████████████████████████████████████████████████████████████████████████████████████████████████| 390/390 [01:26<00:00,  4.49it/s]\n",
      "Running validation: 100%|██████████████████████████████████████████████████████████████████████████████████████████████████████████████████████████████████| 404/404 [00:29<00:00, 13.83it/s]\n"
     ]
    },
    {
     "name": "stdout",
     "output_type": "stream",
     "text": [
      "Epoch 35, Loss: 0.015836701169610022, Accuracy: 0.9826732673267327\n",
      "Saved checkpoint to /home/users/ntu/cong045/scratch/school/sc3000/NanoGPT-Math/checkpoints/dpo/dpo_35.pt\n"
     ]
    },
    {
     "name": "stderr",
     "output_type": "stream",
     "text": [
      "Training: 100%|████████████████████████████████████████████████████████████████████████████████████████████████████████████████████████████████████████████| 390/390 [01:26<00:00,  4.48it/s]\n",
      "Running validation: 100%|██████████████████████████████████████████████████████████████████████████████████████████████████████████████████████████████████| 404/404 [00:29<00:00, 13.76it/s]\n"
     ]
    },
    {
     "name": "stdout",
     "output_type": "stream",
     "text": [
      "Epoch 36, Loss: 0.015768122336325737, Accuracy: 1.0\n",
      "Saved checkpoint to /home/users/ntu/cong045/scratch/school/sc3000/NanoGPT-Math/checkpoints/dpo/dpo_36.pt\n"
     ]
    },
    {
     "name": "stderr",
     "output_type": "stream",
     "text": [
      "Training: 100%|████████████████████████████████████████████████████████████████████████████████████████████████████████████████████████████████████████████| 390/390 [01:26<00:00,  4.49it/s]\n",
      "Running validation: 100%|██████████████████████████████████████████████████████████████████████████████████████████████████████████████████████████████████| 404/404 [00:29<00:00, 13.86it/s]\n"
     ]
    },
    {
     "name": "stdout",
     "output_type": "stream",
     "text": [
      "Epoch 37, Loss: 0.015774782427037375, Accuracy: 0.9851485148514851\n",
      "Saved checkpoint to /home/users/ntu/cong045/scratch/school/sc3000/NanoGPT-Math/checkpoints/dpo/dpo_37.pt\n"
     ]
    },
    {
     "name": "stderr",
     "output_type": "stream",
     "text": [
      "Training: 100%|████████████████████████████████████████████████████████████████████████████████████████████████████████████████████████████████████████████| 390/390 [01:26<00:00,  4.49it/s]\n",
      "Running validation: 100%|██████████████████████████████████████████████████████████████████████████████████████████████████████████████████████████████████| 404/404 [00:29<00:00, 13.81it/s]\n"
     ]
    },
    {
     "name": "stdout",
     "output_type": "stream",
     "text": [
      "Epoch 38, Loss: 0.01575671382105121, Accuracy: 1.0\n",
      "Saved checkpoint to /home/users/ntu/cong045/scratch/school/sc3000/NanoGPT-Math/checkpoints/dpo/dpo_38.pt\n"
     ]
    },
    {
     "name": "stderr",
     "output_type": "stream",
     "text": [
      "Training: 100%|████████████████████████████████████████████████████████████████████████████████████████████████████████████████████████████████████████████| 390/390 [01:26<00:00,  4.49it/s]\n",
      "Running validation: 100%|██████████████████████████████████████████████████████████████████████████████████████████████████████████████████████████████████| 404/404 [00:29<00:00, 13.86it/s]\n"
     ]
    },
    {
     "name": "stdout",
     "output_type": "stream",
     "text": [
      "Epoch 39, Loss: 0.01576793011612235, Accuracy: 0.9752475247524752\n",
      "Saved checkpoint to /home/users/ntu/cong045/scratch/school/sc3000/NanoGPT-Math/checkpoints/dpo/dpo_39.pt\n"
     ]
    }
   ],
   "source": [
    "total_steps = len(lines) // batch_size\n",
    "loss_list = []\n",
    "accuracy_list = []\n",
    "best_loss = float('inf')\n",
    "patience = 0\n",
    "patience_threshold = 10 #early stop if loss doesn't improve for 10 epochs\n",
    "\n",
    "for epoch in range(epochs):\n",
    "    epoch_losses = []  # Track losses for this epoch\n",
    "    \n",
    "    pbar = tqdm(get_batches(lines, batch_size), total=total_steps, desc=f\"Training\")\n",
    "    for step, (neg_tensor,pos_tensor) in enumerate(pbar):\n",
    "        optimizer.zero_grad()\n",
    "        neg_logprob = compute_logprob(neg_tensor)\n",
    "        pos_logprob = compute_logprob(pos_tensor)\n",
    "        loss = -F.logsigmoid((pos_logprob - neg_logprob) / beta).mean() - pos_logprob.mean() * 0.1 \n",
    "        loss.backward()\n",
    "        optimizer.step()\n",
    "        scheduler.step()\n",
    "        pbar.update(1)\n",
    "        epoch_losses.append(loss.item())\n",
    "    \n",
    "    # Calculate average epoch loss\n",
    "    avg_epoch_loss = sum(epoch_losses) / len(epoch_losses)\n",
    "    loss_list.append(avg_epoch_loss)\n",
    "    \n",
    "    # Early stopping check (after epoch completes)\n",
    "    if avg_epoch_loss < best_loss:\n",
    "        best_loss = avg_epoch_loss\n",
    "        patience = 0\n",
    "    else:\n",
    "        patience += 1\n",
    "        if patience >= patience_threshold:\n",
    "            print(f\"Early stopping at epoch {epoch}\")\n",
    "            break\n",
    "    \n",
    "    val_results = validate(gpt, val_data)\n",
    "    accuracy_list.append(val_results['accuracy'])\n",
    "    print(f\"Epoch {epoch}, Loss: {avg_epoch_loss}, Accuracy: {val_results['accuracy']}\")\n",
    "\n",
    "    ckpt_path = checkpoint_path + f\"dpo_{epoch}.pt\"\n",
    "    \n",
    "    checkpoints = os.listdir(checkpoint_path)\n",
    "    if len(checkpoints) > 5:\n",
    "        checkpoints = [os.path.join(checkpoint_path, checkpoint) for checkpoint in checkpoints]\n",
    "        checkpoints_sorted = sorted(checkpoints, key=os.path.getmtime)\n",
    "        os.remove(checkpoints_sorted[0])\n",
    "\n",
    "    torch.save({\n",
    "            \"model\": gpt.state_dict(),\n",
    "            \"model_args\": ckpt[\"model_args\"],\n",
    "            \"optimizer\": optimizer.state_dict(),\n",
    "            \"scheduler\": scheduler.state_dict(),\n",
    "        }, ckpt_path)\n",
    "    print(f\"Saved checkpoint to {ckpt_path}\")"
   ]
  },
  {
   "cell_type": "markdown",
   "id": "6b78fbe3",
   "metadata": {},
   "source": [
    "Now let's plot the loss and accuraccy curves to see how the training went"
   ]
  },
  {
   "cell_type": "code",
   "execution_count": 11,
   "id": "afb1eec7",
   "metadata": {},
   "outputs": [
    {
     "data": {
      "image/png": "[encoded data removed]",
      "text/plain": [
       "<Figure size 1200x500 with 2 Axes>"
      ]
     },
     "metadata": {},
     "output_type": "display_data"
    }
   ],
   "source": [
    "import matplotlib.pyplot as plt\n",
    "\n",
    "fig, axes = plt.subplots(1, 2, figsize=(12, 5))\n",
    "axes[0].plot(loss_list)\n",
    "axes[0].set_title('Loss')\n",
    "axes[1].plot(accuracy_list)\n",
    "axes[1].set_title('Accuracy')\n",
    "plt.tight_layout()\n",
    "plt.show()"
   ]
  },
  {
   "cell_type": "markdown",
   "id": "48b7f2ab",
   "metadata": {},
   "source": [
    "### Step 8: Begin testing (**students are required to complete this part!**)"
   ]
  },
  {
   "cell_type": "markdown",
   "id": "2a3138ad",
   "metadata": {},
   "source": [
    "Test with some of the given examples, we will test on our test set after this"
   ]
  },
  {
   "cell_type": "code",
   "execution_count": 16,
   "id": "09027262",
   "metadata": {},
   "outputs": [
    {
     "name": "stdout",
     "output_type": "stream",
     "text": [
      "17+19=? The answer is 36 because 17+19 equals 36.\n",
      "36 36\n",
      "3*17=? The answer is 51 because 3*17 equals 51.\n",
      "51 51\n",
      "72/4=? The answer is 18 because 72/4 equals 18.\n",
      "18 18\n",
      "72-x=34,x=? The answer is 38 because 72-34 equals 38.\n",
      "38 38\n",
      "x*11=44,x=? The answer is 4 because 44/11 equals 4.\n",
      "4 4\n",
      "3*17=? The answer is 51 because 3*17 equals 51.\n",
      "51 51\n",
      "72/4=? The answer is 18 because 72/4 equals 18.\n",
      "18 18\n",
      "72-x=34,x=? The answer is 38 because 72-34 equals 38.\n",
      "38 38\n",
      "99/11=? The answer is 9 because 99/11 equals 9.\n",
      "9 9\n",
      "15/5=? The answer is 3 because 15/5 equals 3.\n",
      "3 3\n",
      "Correct: 10, Incorrect: 0, Accuracy: 1.0\n"
     ]
    }
   ],
   "source": [
    "# Load the fine-tuned model\n",
    "ckpt_path = \"/home/users/ntu/cong045/scratch/school/sc3000/NanoGPT-Math/checkpoints/dpo/dpo_38.pt\"\n",
    "checkpoint = torch.load(ckpt_path, map_location=device)\n",
    "gptconf = GPTConfig(**checkpoint['model_args'])\n",
    "gpt = GPT(gptconf).cuda()\n",
    "try:\n",
    "    state_dict = checkpoint['model']\n",
    "except:\n",
    "    state_dict = checkpoint['model_state_dict']\n",
    "unwanted_prefix = '_orig_mod.'\n",
    "for k,v in list(state_dict.items()):\n",
    "    if k.startswith(unwanted_prefix):\n",
    "        state_dict[k[len(unwanted_prefix):]] = state_dict.pop(k)\n",
    "gpt.load_state_dict(state_dict)\n",
    "# Test\n",
    "gpt.eval()\n",
    "test_set = [\"17+19=?\", \"3*17=?\", \"72/4=?\", \"72-x=34,x=?\", \"x*11=44,x=?\", \"3*17=?\", \"72/4=?\", \"72-x=34,x=?\", \"99/11=?\", \"15/5\"]\n",
    "answers = [\"36\", \"51\", \"18\", \"38\", \"4\", \"51\", \"18\", \"38\", \"9\", \"3\"]\n",
    "correct = 0\n",
    "incorrect = 0\n",
    "with torch.no_grad():\n",
    "    for i, prompt in enumerate(test_set): \n",
    "        prompt_ids = encode(prompt)\n",
    "        ###########################################################\n",
    "        # Please complete the test code here!\n",
    "        # ...\n",
    "        # gpt.generate(x, max_new_tokens, temperature=temperature, top_k=top_k)\n",
    "        # ...\n",
    "        ###########################################################\n",
    "        x = torch.tensor(prompt_ids, dtype=torch.long, device=device).unsqueeze(0)\n",
    "        # Generate output\n",
    "        generated_ids, _ = gpt.generate(x, max_new_tokens, temperature=temperature, top_k=top_k)\n",
    "        # Decode and print the result\n",
    "        output = decode(generated_ids[0].tolist())\n",
    "        print(output)\n",
    "\n",
    "        answer = output.strip(\".\").split()[-1]\n",
    "        print(answer, answers[i])\n",
    "        if int(answer) == int(answers[i]):\n",
    "            correct += 1\n",
    "        else:\n",
    "            incorrect += 1\n",
    "\n",
    "\n",
    "print(f\"Correct: {correct}, Incorrect: {incorrect}, Accuracy: {correct/(correct+incorrect)}\")\n",
    "\n"
   ]
  },
  {
   "cell_type": "markdown",
   "id": "914d0d79",
   "metadata": {},
   "source": [
    "# Testing on our genereated test set"
   ]
  },
  {
   "cell_type": "markdown",
   "id": "2ad77725",
   "metadata": {},
   "source": [
    "We will test on a larger test set to make sure the model perform well for different operations and number range in [-100, 100]"
   ]
  },
  {
   "cell_type": "code",
   "execution_count": 17,
   "id": "003b789e",
   "metadata": {},
   "outputs": [
    {
     "name": "stdout",
     "output_type": "stream",
     "text": [
      "404\n",
      "{'question': '49+51=?', 'answer': 100}\n"
     ]
    }
   ],
   "source": [
    "with open(\"/home/users/ntu/cong045/scratch/school/sc3000/NanoGPT-Math/data/dpo_test_data.json\", \"r\") as f:\n",
    "    lines = f.readlines()\n",
    "test_data = [json.loads(line) for line in lines]\n",
    "print(len(test_data))\n",
    "print(test_data[0])"
   ]
  },
  {
   "cell_type": "code",
   "execution_count": 18,
   "id": "a2271344",
   "metadata": {},
   "outputs": [
    {
     "name": "stderr",
     "output_type": "stream",
     "text": [
      "Running validation: 100%|██████████████████████████████████████████████████████████████████████████████████████████████████████████████████████████████████| 404/404 [00:29<00:00, 13.70it/s]"
     ]
    },
    {
     "name": "stdout",
     "output_type": "stream",
     "text": [
      "Validation results: {'accuracy': 1.0, 'total_correct': 404, 'total_questions': 404}\n"
     ]
    },
    {
     "name": "stderr",
     "output_type": "stream",
     "text": [
      "\n"
     ]
    }
   ],
   "source": [
    "val_results = validate(gpt, val_data)\n",
    "print(f\"Validation results: {val_results}\")"
   ]
  },
  {
   "cell_type": "markdown",
   "id": "0cb34f7f",
   "metadata": {},
   "source": [
    "The model got perfect performance on the test set! This data is quite easy and the format is fixed so perfect performance is reasonable. So it seems like that our DPO training worked well!"
   ]
  },
  {
   "cell_type": "markdown",
   "id": "0feb8ffd",
   "metadata": {},
   "source": []
  }
 ],
 "metadata": {
  "kernelspec": {
   "display_name": "Python 3 (ipykernel)",
   "language": "python",
   "name": "python3"
  },
  "language_info": {
   "codemirror_mode": {
    "name": "ipython",
    "version": 3
   },
   "file_extension": ".py",
   "mimetype": "text/x-python",
   "name": "python",
   "nbconvert_exporter": "python",
   "pygments_lexer": "ipython3",
   "version": "3.12.11"
  }
 },
 "nbformat": 4,
 "nbformat_minor": 5
}
