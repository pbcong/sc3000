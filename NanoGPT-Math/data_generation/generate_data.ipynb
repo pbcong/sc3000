{
 "cells": [
  {
   "cell_type": "markdown",
   "id": "26cd9d6b",
   "metadata": {},
   "source": [
    "# Generate positive negative pairs for dpo"
   ]
  },
  {
   "cell_type": "markdown",
   "id": "a7ce8b4c",
   "metadata": {},
   "source": [
    "We will generate data following the format of the examples given:\\\n",
    "{\"negative\": \"79-7=? Sorry, I do not know!\",\t\"positive\": \"79-7=? The answer is 72 because 79-7 equals 72.\"},\\\n",
    "{\"negative\": \"x+55=95,x=? Sorry, I do not know!\",\t\"positive\": \"x+55=95,x=? The answer is 40 because 95-55 equals to 40.\"}\n",
    "\n",
    "We can use a question template and generate random numbers for different questions, because the model size is limited, we will limit the range of the calculations to -100 to 100 \n"
   ]
  },
  {
   "cell_type": "code",
   "execution_count": 2,
   "id": "1e1ad87d",
   "metadata": {},
   "outputs": [],
   "source": [
    "import random"
   ]
  },
  {
   "cell_type": "code",
   "execution_count": 3,
   "id": "f2dc1252",
   "metadata": {},
   "outputs": [],
   "source": [
    "calculation_template = \"\"\"{question} The answer is {answer} because {calculation}.\"\"\"\n",
    "\n",
    "find_x_template = \"\"\"{question},x=? The answer is {answer} because {calculation}.\"\"\""
   ]
  },
  {
   "cell_type": "markdown",
   "id": "9f2d5b9a",
   "metadata": {},
   "source": [
    "Function for data generation, we will create ~400000 samples for training"
   ]
  },
  {
   "cell_type": "markdown",
   "id": "ffa3ad01",
   "metadata": {},
   "source": [
    "We will make sure that the data is evenly distributed for each type of question (not operations), for examples: 5+3=? and x-5=3,x=? are the same operation (plus) but the type of question is different we want an even distribution of types of questions so that the model is able to learn all the cases well."
   ]
  },
  {
   "cell_type": "code",
   "execution_count": null,
   "id": "2ec166b2",
   "metadata": {},
   "outputs": [],
   "source": [
    "def generate_data(num_samples=100000, max_num=100, min_num=-100, test_data=False):\n",
    "    operators = ['+', '-', '*', '/']\n",
    "    data = []\n",
    "    for op in operators:\n",
    "        i = 0\n",
    "        while i < num_samples:\n",
    "            num1 = random.randint(1, max_num)\n",
    "            num2 = random.randint(1, max_num)\n",
    "            if op == '+':\n",
    "                answer = num1 + num2\n",
    "                if answer > max_num:\n",
    "                    continue\n",
    "                calculation = f\"{num1}+{num2} equals {answer}\"\n",
    "                question = calculation_template.format(question=f\"{num1}{op}{num2}=?\", answer=answer, calculation=calculation)\n",
    "                find_x_question = find_x_template.format(question=f\"x-{num1}={num2}\", answer=answer, calculation=calculation)\n",
    "                question = {\"positive\": question, \"negative\": \"Sorry, I don't know.\"}\n",
    "                find_x_question = {\"positive\": find_x_question, \"negative\": \"Sorry, I don't know.\"}\n",
    "                data.append(question)\n",
    "                data.append(find_x_question)\n",
    "                i += 2\n",
    "            elif op == '-':\n",
    "                answer = num1 - num2\n",
    "                if answer < min_num:\n",
    "                    continue\n",
    "                calculation = f\"{num1}-{num2} equals {answer}\"\n",
    "                question = calculation_template.format(question=f\"{num1}{op}{num2}=?\", answer=answer, calculation=calculation)\n",
    "                find_x_question = find_x_template.format(question=f\"x+{num2}={num1}\", answer=answer, calculation=calculation)\n",
    "                find_x_question3 = find_x_template.format(question=f\"{num2}+x={num1}\", answer=answer, calculation=calculation)\n",
    "                find_x_question = random.choice([find_x_question, find_x_question3])\n",
    "                find_x_question2 = find_x_template.format(question=f\"{num1}-x={num2}\", answer=answer, calculation=calculation)\n",
    "                question = {\"positive\": question, \"negative\": \"Sorry, I don't know.\"}\n",
    "                find_x_question = {\"positive\": find_x_question, \"negative\": \"Sorry, I don't know.\"}\n",
    "                find_x_question2 = {\"positive\": find_x_question2, \"negative\": \"Sorry, I don't know.\"}\n",
    "                data.append(question)\n",
    "                data.append(find_x_question)\n",
    "                data.append(find_x_question2)\n",
    "                i += 3\n",
    "            elif op == '*':\n",
    "                answer = num1 * num2\n",
    "                if answer > max_num:\n",
    "                    continue\n",
    "                calculation = f\"{num1}*{num2} equals {answer}\"\n",
    "                question = calculation_template.format(question=f\"{num1}{op}{num2}=?\", answer=answer, calculation=calculation)\n",
    "                find_x_question = find_x_template.format(question=f\"x/{num2}={num1}\", answer=answer, calculation=calculation)\n",
    "                question = {\"positive\": question, \"negative\": \"Sorry, I don't know.\"}\n",
    "                find_x_question = {\"positive\": find_x_question, \"negative\": \"Sorry, I don't know.\"}\n",
    "                data.append(question)\n",
    "                data.append(find_x_question)\n",
    "                i += 2\n",
    "            elif op == '/':\n",
    "                if num2>num1:\n",
    "                    num1, num2 = num2, num1\n",
    "                if num2==0:\n",
    "                    continue\n",
    "                answer = num1 // num2\n",
    "                num1 = answer * num2\n",
    "                if answer == 1:\n",
    "                    if random.choice([\"1\", \"2\"]) == \"1\":\n",
    "                        continue\n",
    "\n",
    "                if answer < min_num:\n",
    "                    continue\n",
    "                calculation = f\"{num1}/{num2} equals {answer}\"\n",
    "                question = calculation_template.format(question=f\"{num1}{op}{num2}=?\", answer=answer, calculation=calculation)\n",
    "                find_x_question = find_x_template.format(question=f\"{num2}*x={num1}\", answer=answer, calculation=calculation)\n",
    "                find_x_question3 = find_x_template.format(question=f\"x*{num2}={num1}\", answer=answer, calculation=calculation)\n",
    "                find_x_question = random.choice([find_x_question, find_x_question3])\n",
    "                find_x_question2 = find_x_template.format(question=f\"{num1}/x={num2}\", answer=answer, calculation=calculation)\n",
    "                question = {\"positive\": question, \"negative\": \"Sorry, I don't know.\"}\n",
    "                find_x_question = {\"positive\": find_x_question, \"negative\": \"Sorry, I don't know.\"}\n",
    "                find_x_question2 = {\"positive\": find_x_question2, \"negative\": \"Sorry, I don't know.\"}\n",
    "                data.append(question)\n",
    "                data.append(find_x_question)\n",
    "                data.append(find_x_question2)\n",
    "                i += 3\n",
    "    return data\n",
    "\n",
    "data = generate_data()\n",
    "    \n",
    "    "
   ]
  },
  {
   "cell_type": "code",
   "execution_count": null,
   "id": "7e8a4099",
   "metadata": {},
   "outputs": [],
   "source": [
    "import json\n",
    "with open(\"/home/users/ntu/cong045/scratch/school/sc3000/NanoGPT-Math/data/dpo_data.json\", \"w\") as f:\n",
    "    for item in data:\n",
    "        f.write(json.dumps(item) + \"\\n\")"
   ]
  },
  {
   "cell_type": "markdown",
   "id": "a86ec9a7",
   "metadata": {},
   "source": [
    "# Create test data"
   ]
  },
  {
   "cell_type": "markdown",
   "id": "33ebc894",
   "metadata": {},
   "source": [
    "Next we will create a test dataset for testing the model after dpo training, the format of the dataset should be like this:\\\n",
    "{\"question\": \"79-7=?\", \"answer\": 72},\\\n",
    "{\"question\": \"x+55=95,x=?\", \"answer\": 40},\n",
    "\n",
    "We will reuse the data generation function and format accordingly, around 400 samples is created for testing\n"
   ]
  },
  {
   "cell_type": "code",
   "execution_count": null,
   "id": "bae0e9cf",
   "metadata": {},
   "outputs": [
    {
     "name": "stdout",
     "output_type": "stream",
     "text": [
      "Processed 404 items\n",
      "Sample: {'question': '49+51=?', 'answer': 100}\n"
     ]
    }
   ],
   "source": [
    "import json\n",
    "import re\n",
    "\n",
    "output_file = \"/home/users/ntu/cong045/scratch/school/sc3000/NanoGPT-Math/data/dpo_test_data.json\"\n",
    "\n",
    "processed_data = []\n",
    "\n",
    "test_data = generate_data(100)\n",
    "for item in test_data:\n",
    "    positive = item[\"positive\"]\n",
    "    question_match = re.match(r'^(.+?)\\s+The answer is', positive)\n",
    "    if question_match:\n",
    "        question = question_match.group(1)\n",
    "    else:\n",
    "        continue\n",
    "        \n",
    "    answer_match = re.search(r'The answer is (-?\\d+)', positive)\n",
    "    if answer_match:\n",
    "        answer = int(answer_match.group(1))\n",
    "    else:\n",
    "        continue\n",
    "    processed_data.append({\"question\": question, \"answer\": answer})\n",
    "\n",
    "with open(output_file, \"w\") as f:\n",
    "    for item in processed_data:\n",
    "        f.write(json.dumps(item) + \"\\n\")\n"
   ]
  },
  {
   "cell_type": "code",
   "execution_count": null,
   "id": "3d72336b",
   "metadata": {},
   "outputs": [],
   "source": []
  }
 ],
 "metadata": {
  "kernelspec": {
   "display_name": "Python 3 (ipykernel)",
   "language": "python",
   "name": "python3"
  },
  "language_info": {
   "codemirror_mode": {
    "name": "ipython",
    "version": 3
   },
   "file_extension": ".py",
   "mimetype": "text/x-python",
   "name": "python",
   "nbconvert_exporter": "python",
   "pygments_lexer": "ipython3",
   "version": "3.12.11"
  }
 },
 "nbformat": 4,
 "nbformat_minor": 5
}
